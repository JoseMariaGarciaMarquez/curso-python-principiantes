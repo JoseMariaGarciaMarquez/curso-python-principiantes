{
 "cells": [
  {
   "cell_type": "markdown",
   "id": "7f9f5750",
   "metadata": {},
   "source": [
    "# 🎯 Tu Primer Programa en Python\n",
    "\n",
    "![Guía de Python](../guia-python.png)\n",
    "\n",
    "¡Bienvenido a tu primera lección interactiva de Python! 🐍\n",
    "\n",
    "En este notebook aprenderás:\n",
    "- ✅ Escribir tu primer programa en Python\n",
    "- ✅ Usar la función `print()` de diferentes maneras\n",
    "- ✅ Escribir comentarios para documentar tu código\n",
    "- ✅ Completar ejercicios prácticos paso a paso\n",
    "\n",
    "💡 **Tip**: Ejecuta cada celda presionando `Shift + Enter` o haciendo clic en el botón ▶️"
   ]
  },
  {
   "cell_type": "markdown",
   "id": "fe95a034",
   "metadata": {},
   "source": [
    "## 🚀 Configuración Inicial\n",
    "\n",
    "Antes de empezar, vamos a asegurarnos de que todo funciona correctamente."
   ]
  },
  {
   "cell_type": "code",
   "execution_count": null,
   "id": "f644e2db",
   "metadata": {},
   "outputs": [],
   "source": [
    "# Verificar que Python está funcionando\n",
    "print(\"¡Python está funcionando correctamente! 🎉\")\n",
    "print(\"Versión de Python:\")\n",
    "import sys\n",
    "print(sys.version)"
   ]
  },
  {
   "cell_type": "markdown",
   "id": "d06a8c56",
   "metadata": {},
   "source": [
    "## 💻 ¡Hola Mundo!\n",
    "\n",
    "Todo programador empieza con el famoso \"Hola Mundo\". ¡Es una tradición! \n",
    "\n",
    "Este es el programa más simple que puedes escribir en Python:"
   ]
  },
  {
   "cell_type": "code",
   "execution_count": null,
   "id": "6e109124",
   "metadata": {},
   "outputs": [],
   "source": [
    "# Mi primer programa en Python\n",
    "print(\"¡Hola, Mundo!\")\n",
    "print(\"¡Bienvenido a Python!\")"
   ]
  },
  {
   "cell_type": "markdown",
   "id": "cac0c447",
   "metadata": {},
   "source": [
    "## 📝 Explorando la Función `print()`\n",
    "\n",
    "La función `print()` es tu herramienta principal para mostrar información en pantalla. ¡Vamos a explorar todas sus posibilidades!"
   ]
  },
  {
   "cell_type": "code",
   "execution_count": null,
   "id": "bb2d09bb",
   "metadata": {},
   "outputs": [],
   "source": [
    "# Diferentes tipos de datos con print()\n",
    "print(\"Esto es texto\")\n",
    "print(42)\n",
    "print(3.14159)\n",
    "print(True)\n",
    "\n",
    "# Separador visual\n",
    "print(\"-\" * 30)"
   ]
  },
  {
   "cell_type": "code",
   "execution_count": null,
   "id": "2cff8d6c",
   "metadata": {},
   "outputs": [],
   "source": [
    "# Print con múltiples elementos\n",
    "print(\"El resultado de 25 + 17 es:\", 25 + 17)\n",
    "print(\"Hola\", \"Python\", \"es\", \"genial!\")\n",
    "\n",
    "# Print con variables\n",
    "nombre = \"Ana\"\n",
    "edad = 25\n",
    "print(\"Hola\", nombre, \"tienes\", edad, \"años\")\n",
    "\n",
    "# Print con operaciones matemáticas\n",
    "print(\"Suma:\", 10 + 5)\n",
    "print(\"Multiplicación:\", 7 * 8)\n",
    "print(\"División:\", 100 / 4)"
   ]
  },
  {
   "cell_type": "markdown",
   "id": "c24671ec",
   "metadata": {},
   "source": [
    "## 💬 Trabajando con Comentarios\n",
    "\n",
    "Los comentarios son texto que Python ignora, pero que nos ayuda a explicar qué hace nuestro código. ¡Son súper importantes!"
   ]
  },
  {
   "cell_type": "code",
   "execution_count": null,
   "id": "83ff52d0",
   "metadata": {},
   "outputs": [],
   "source": [
    "# Esto es un comentario de una línea\n",
    "print(\"¡Hola!\")  # Comentario al final de la línea\n",
    "\n",
    "# Los comentarios nos ayudan a explicar el código\n",
    "edad = 18\n",
    "print(\"Mi edad es:\", edad)  # Mostramos la edad\n",
    "\n",
    "\"\"\"\n",
    "Este es un comentario\n",
    "de múltiples líneas.\n",
    "Se usa para explicaciones\n",
    "más largas.\n",
    "\"\"\"\n",
    "\n",
    "print(\"Los comentarios no afectan la ejecución del programa\")"
   ]
  },
  {
   "cell_type": "markdown",
   "id": "c0d41e68",
   "metadata": {},
   "source": [
    "## 🏋️ Ejercicio 1: Información Personal\n",
    "\n",
    "¡Hora de practicar! Vamos a crear un programa que muestre tu información personal.\n",
    "\n",
    "**Instrucciones:**\n",
    "1. Modifica el código de abajo con tu información real\n",
    "2. Ejecuta la celda para ver el resultado\n",
    "3. ¡Experimenta cambiando los valores!"
   ]
  },
  {
   "cell_type": "code",
   "execution_count": null,
   "id": "f5bc965e",
   "metadata": {},
   "outputs": [],
   "source": [
    "# 🎯 EJERCICIO: Cambia estos valores por los tuyos\n",
    "mi_nombre = \"Tu Nombre Aquí\"\n",
    "mi_edad = 20\n",
    "mi_ciudad = \"Tu Ciudad\"\n",
    "mi_comida_favorita = \"Tu Comida Favorita\"\n",
    "\n",
    "# Mostramos la información\n",
    "print(\"=\" * 40)\n",
    "print(\"🙋‍♀️ MI PRESENTACIÓN\")\n",
    "print(\"=\" * 40)\n",
    "print(\"Nombre:\", mi_nombre)\n",
    "print(\"Edad:\", mi_edad, \"años\")\n",
    "print(\"Ciudad:\", mi_ciudad)\n",
    "print(\"Comida favorita:\", mi_comida_favorita)\n",
    "print(\"=\" * 40)\n",
    "\n",
    "# Bonus: Calcular año de nacimiento\n",
    "año_actual = 2024\n",
    "año_nacimiento = año_actual - mi_edad\n",
    "print(\"Probablemente naciste en:\", año_nacimiento)"
   ]
  },
  {
   "cell_type": "markdown",
   "id": "4ce1fd5b",
   "metadata": {},
   "source": [
    "## 🎨 Ejercicio 2: Creando Arte ASCII\n",
    "\n",
    "¡Vamos a ser creativos! El arte ASCII es dibujar usando solo caracteres de texto. Es súper divertido y una excelente forma de practicar `print()`."
   ]
  },
  {
   "cell_type": "code",
   "execution_count": null,
   "id": "f78a03d6",
   "metadata": {},
   "outputs": [],
   "source": [
    "# Arte ASCII: Un gato adorable\n",
    "print(\"    /\\\\_/\\\\  \")\n",
    "print(\"   ( o.o ) \")\n",
    "print(\"    > ^ <  \")\n",
    "print(\"¡Un gato hecho con código!\")\n",
    "\n",
    "print()  # Línea en blanco\n",
    "\n",
    "# Arte ASCII: Una casa\n",
    "print(\"      /\\\\      \")\n",
    "print(\"     /  \\\\     \")\n",
    "print(\"    /____\\\\    \")\n",
    "print(\"    |    |    \")\n",
    "print(\"    | [] |    \")\n",
    "print(\"    |____|    \")\n",
    "print(\"¡Una casa de código!\")\n",
    "\n",
    "print()  # Línea en blanco\n",
    "\n",
    "# Arte ASCII: Un corazón\n",
    "print(\"  💖 Con Python:\")\n",
    "print(\"  ♥♥   ♥♥\")\n",
    "print(\" ♥   ♥   ♥\")\n",
    "print(\"♥     ♥     ♥\")\n",
    "print(\" ♥         ♥\")\n",
    "print(\"  ♥       ♥\")\n",
    "print(\"   ♥     ♥\")\n",
    "print(\"    ♥   ♥\")\n",
    "print(\"     ♥ ♥\")\n",
    "print(\"      ♥\")"
   ]
  },
  {
   "cell_type": "markdown",
   "id": "b9ff1975",
   "metadata": {},
   "source": [
    "## 🧮 Ejercicio 3: Calculadora Básica\n",
    "\n",
    "¡Vamos a crear tu primera calculadora! No te preocupes si no entiendes todo todavía, esto es solo para que veas el poder de Python."
   ]
  },
  {
   "cell_type": "code",
   "execution_count": null,
   "id": "4f08b4de",
   "metadata": {},
   "outputs": [],
   "source": [
    "# Mi primera calculadora\n",
    "print(\"🧮 === CALCULADORA BÁSICA ===\")\n",
    "print()\n",
    "\n",
    "# Definir números para calcular\n",
    "numero1 = 20\n",
    "numero2 = 8\n",
    "\n",
    "print(\"Números a calcular:\", numero1, \"y\", numero2)\n",
    "print(\"-\" * 35)\n",
    "\n",
    "# Realizar operaciones básicas\n",
    "suma = numero1 + numero2\n",
    "resta = numero1 - numero2\n",
    "multiplicacion = numero1 * numero2\n",
    "division = numero1 / numero2\n",
    "\n",
    "# Mostrar resultados\n",
    "print(f\"Suma:          {numero1} + {numero2} = {suma}\")\n",
    "print(f\"Resta:         {numero1} - {numero2} = {resta}\")\n",
    "print(f\"Multiplicación: {numero1} × {numero2} = {multiplicacion}\")\n",
    "print(f\"División:      {numero1} ÷ {numero2} = {division}\")\n",
    "\n",
    "print(\"-\" * 35)\n",
    "print(\"¡Calculadora completada! 🎉\")"
   ]
  },
  {
   "cell_type": "markdown",
   "id": "8c3cac17",
   "metadata": {},
   "source": [
    "## 🎯 ¡Tu Turno! Ejercicio Libre\n",
    "\n",
    "¡Ahora es tu momento de ser creativo! Usa la celda de abajo para:\n",
    "\n",
    "**Opciones:**\n",
    "1. Crear tu propio arte ASCII\n",
    "2. Hacer una presentación de tu mascota\n",
    "3. Diseñar un menú de restaurante\n",
    "4. Crear una historia corta\n",
    "5. ¡Lo que se te ocurra!\n",
    "\n",
    "**Recuerda usar:**\n",
    "- `print()` para mostrar texto\n",
    "- Comentarios (`#`) para explicar tu código\n",
    "- Variables para almacenar información"
   ]
  },
  {
   "cell_type": "code",
   "execution_count": null,
   "id": "0288888b",
   "metadata": {},
   "outputs": [],
   "source": [
    "# 🎨 ¡ESCRIBE TU CÓDIGO AQUÍ!\n",
    "# Ejemplo: Presentación de mi mascota\n",
    "\n",
    "# Información de mi mascota\n",
    "nombre_mascota = \"Firulais\"\n",
    "tipo_animal = \"Perro\"\n",
    "edad_mascota = 3\n",
    "color = \"Café\"\n",
    "\n",
    "# Presentación\n",
    "print(\"🐕 === PRESENTANDO A MI MASCOTA ===\")\n",
    "print(f\"Nombre: {nombre_mascota}\")\n",
    "print(f\"Tipo: {tipo_animal}\")\n",
    "print(f\"Edad: {edad_mascota} años\")\n",
    "print(f\"Color: {color}\")\n",
    "print()\n",
    "print(\"¡Es muy juguetón y le encanta correr!\")\n",
    "\n",
    "# 👆 ¡Cambia este código por el tuyo!"
   ]
  },
  {
   "cell_type": "markdown",
   "id": "767f5351",
   "metadata": {},
   "source": [
    "## 🎉 ¡Felicidades!\n",
    "\n",
    "¡Has completado tu primera lección de Python! 🎊\n",
    "\n",
    "### 📋 Lo que has aprendido:\n",
    "\n",
    "✅ **Función `print()`**: Mostrar información en pantalla  \n",
    "✅ **Comentarios**: Documentar y explicar código  \n",
    "✅ **Variables básicas**: Almacenar información  \n",
    "✅ **Operaciones matemáticas**: Sumar, restar, multiplicar, dividir  \n",
    "✅ **Creatividad**: Arte ASCII y proyectos personales  \n",
    "\n",
    "### 🚀 Siguiente Paso:\n",
    "\n",
    "Tu próxima lección será sobre **Variables y Tipos de Datos**, donde aprenderás:\n",
    "- Diferentes tipos de datos (números, texto, booleanos)\n",
    "- Cómo crear y usar variables\n",
    "- Operaciones con variables\n",
    "- Entrada de datos del usuario\n",
    "\n",
    "### 💡 Consejos para Seguir Practicando:\n",
    "\n",
    "1. **Experimenta**: Cambia los valores en las celdas y ve qué pasa\n",
    "2. **Crea**: Inventa tus propios ejemplos de `print()`\n",
    "3. **Comenta**: Añade comentarios a tu código para explicar qué hace\n",
    "4. **Diviértete**: ¡Python es divertido cuando experimentas!\n",
    "\n",
    "---\n",
    "\n",
    "**¡Nos vemos en la próxima lección!** 🐍✨"
   ]
  }
 ],
 "metadata": {
  "language_info": {
   "name": "python"
  }
 },
 "nbformat": 4,
 "nbformat_minor": 5
}
