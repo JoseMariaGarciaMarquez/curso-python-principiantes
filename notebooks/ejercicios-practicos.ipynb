{
 "cells": [
  {
   "cell_type": "markdown",
   "id": "2da71430",
   "metadata": {},
   "source": [
    "# 🏋️ Ejercicios Prácticos de Python\n",
    "\n",
    "¡Es hora de poner en práctica todo lo que has aprendido! 💪\n",
    "\n",
    "### 🎯 Instrucciones:\n",
    "1. **Lee cada ejercicio** cuidadosamente\n",
    "2. **Escribe tu código** en las celdas correspondientes\n",
    "3. **Ejecuta y prueba** tu solución\n",
    "4. **Experimenta** con diferentes valores\n",
    "5. **¡Diviértete aprendiendo!**\n",
    "\n",
    "### 📚 Ejercicios incluidos:\n",
    "- 🟢 **Básicos**: Variables, print, operaciones simples\n",
    "- 🟡 **Intermedios**: Conversiones, cálculos más complejos\n",
    "- 🔴 **Desafío**: Proyectos que combinan varios conceptos\n",
    "\n",
    "---\n",
    "\n",
    "*💡 **Consejo**: No tengas miedo de experimentar y hacer cambios. ¡Los errores son parte del aprendizaje!*"
   ]
  },
  {
   "cell_type": "markdown",
   "id": "9375cf18",
   "metadata": {},
   "source": [
    "## 🟢 Ejercicio 1: Calculadora de Edad\n",
    "\n",
    "**Objetivo**: Crear un programa que calcule tu edad en diferentes unidades.\n",
    "\n",
    "**Instrucciones**:\n",
    "1. Crea una variable con tu edad en años\n",
    "2. Calcula tu edad en meses, días y horas (aproximado)\n",
    "3. Muestra todos los resultados de forma organizada\n",
    "\n",
    "**Datos útiles**:\n",
    "- 1 año = 12 meses\n",
    "- 1 año = 365 días  \n",
    "- 1 día = 24 horas"
   ]
  },
  {
   "cell_type": "code",
   "execution_count": null,
   "id": "ef368db8",
   "metadata": {},
   "outputs": [],
   "source": [
    "# 🎯 ESCRIBE TU CÓDIGO AQUÍ\n",
    "\n",
    "# 1. Tu edad en años\n",
    "mi_edad = 0  # ← Cambia este valor por tu edad real\n",
    "\n",
    "# 2. Cálculos (completa el código)\n",
    "edad_meses = mi_edad * 12\n",
    "edad_dias = mi_edad * 365\n",
    "edad_horas = edad_dias * 24\n",
    "\n",
    "# 3. Mostrar resultados\n",
    "print(\"🎂 === CALCULADORA DE EDAD ===\")\n",
    "print(f\"Tienes {mi_edad} años\")\n",
    "print(f\"Eso equivale a:\")\n",
    "print(f\"📅 {edad_meses} meses\")\n",
    "print(f\"📆 {edad_dias} días\")  \n",
    "print(f\"⏰ {edad_horas} horas\")\n",
    "print(\"¡Increíble cuánto has vivido! 🌟\")"
   ]
  }
 ],
 "metadata": {
  "language_info": {
   "name": "python"
  }
 },
 "nbformat": 4,
 "nbformat_minor": 5
}
