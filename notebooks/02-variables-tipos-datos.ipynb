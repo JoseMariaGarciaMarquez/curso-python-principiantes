{
 "cells": [
  {
   "cell_type": "markdown",
   "id": "e3660310",
   "metadata": {},
   "source": [
    "# 📦 Variables y Tipos de Datos\n",
    "\n",
    "¡Bienvenido a tu segunda lección interactiva! 🎯\n",
    "\n",
    "### 🎯 Objetivos de esta lección:\n",
    "\n",
    "- ✅ Entender qué son las variables y para qué sirven\n",
    "- ✅ Conocer los tipos de datos básicos en Python\n",
    "- ✅ Aprender a crear y usar variables\n",
    "- ✅ Convertir entre diferentes tipos de datos\n",
    "- ✅ Trabajar con entrada de datos del usuario\n",
    "\n",
    "### 💭 Piensa en las variables como cajas...\n",
    "Las variables son como \"cajas\" donde guardamos información para usarla más tarde. ¡Vamos a explorar cómo funcionan!"
   ]
  },
  {
   "cell_type": "markdown",
   "id": "db0c99e4",
   "metadata": {},
   "source": [
    "## 🔤 ¿Qué son las Variables?\n",
    "\n",
    "Las variables son nombres que usamos para **almacenar datos** en la memoria de la computadora. Es como ponerle una etiqueta a una caja para saber qué contiene.\n",
    "\n",
    "### 📝 Sintaxis básica:\n",
    "```python\n",
    "nombre_variable = valor\n",
    "```"
   ]
  },
  {
   "cell_type": "code",
   "execution_count": null,
   "id": "c525d830",
   "metadata": {},
   "outputs": [],
   "source": [
    "# Creando mis primeras variables\n",
    "nombre = \"María\"\n",
    "edad = 25\n",
    "altura = 1.68\n",
    "es_estudiante = True\n",
    "\n",
    "# Mostrando el contenido de las variables\n",
    "print(\"Nombre:\", nombre)\n",
    "print(\"Edad:\", edad)\n",
    "print(\"Altura:\", altura, \"metros\")\n",
    "print(\"¿Es estudiante?\", es_estudiante)\n",
    "\n",
    "print()\n",
    "print(\"¡Las variables son súper útiles! 🎉\")"
   ]
  }
 ],
 "metadata": {
  "language_info": {
   "name": "python"
  }
 },
 "nbformat": 4,
 "nbformat_minor": 5
}
